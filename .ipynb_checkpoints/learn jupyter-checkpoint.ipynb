{
 "cells": [
  {
   "cell_type": "code",
   "execution_count": null,
   "id": "5f2c7091-d8cd-4346-9cdf-cf01b7dd5e23",
   "metadata": {},
   "outputs": [],
   "source": [
    "## 两个模式"
   ]
  },
  {
   "cell_type": "code",
   "execution_count": null,
   "id": "8be7a57e-7381-45a3-9d6b-1bfd5f745f58",
   "metadata": {},
   "outputs": [],
   "source": [
    "print(\"hello spider!\")"
   ]
  }
 ],
 "metadata": {
  "kernelspec": {
   "display_name": "Python 3 (ipykernel)",
   "language": "python",
   "name": "python3"
  },
  "language_info": {
   "codemirror_mode": {
    "name": "ipython",
    "version": 3
   },
   "file_extension": ".py",
   "mimetype": "text/x-python",
   "name": "python",
   "nbconvert_exporter": "python",
   "pygments_lexer": "ipython3",
   "version": "3.11.2"
  }
 },
 "nbformat": 4,
 "nbformat_minor": 5
}
