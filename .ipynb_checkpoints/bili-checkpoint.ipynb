{
 "cells": [
  {
   "cell_type": "code",
   "execution_count": 1,
   "id": "1d4cf1f8-8132-454d-b1a1-ce9a6757eef7",
   "metadata": {},
   "outputs": [],
   "source": [
    "from selenium import webdriver"
   ]
  },
  {
   "cell_type": "code",
   "execution_count": 2,
   "id": "e7ab6aa9-237a-4934-9643-f0f6ca7ec456",
   "metadata": {},
   "outputs": [],
   "source": [
    "driver = webdriver.Chrome()"
   ]
  },
  {
   "cell_type": "markdown",
   "id": "599feb3a-a7f6-4729-8e92-463d7e734fc7",
   "metadata": {},
   "source": [
    "##打开一个网页！"
   ]
  },
  {
   "cell_type": "code",
   "execution_count": 3,
   "id": "ac9cb523-ad59-4ba7-875a-487aeb4ac633",
   "metadata": {},
   "outputs": [],
   "source": [
    "driver.get(\"https://www.bilibili.com/v/game/?spm_id_from=333.1007.0.0\")"
   ]
  },
  {
   "cell_type": "code",
   "execution_count": 9,
   "id": "ee93d74c-39bb-47de-81fc-d1644a8a3610",
   "metadata": {},
   "outputs": [],
   "source": [
    "driver.close()"
   ]
  },
  {
   "cell_type": "code",
   "execution_count": null,
   "id": "42b5f03f-fae3-457a-a992-9ec6d9bab733",
   "metadata": {},
   "outputs": [],
   "source": [
    "ele_1 = driver.find_element()"
   ]
  }
 ],
 "metadata": {
  "kernelspec": {
   "display_name": "Python 3 (ipykernel)",
   "language": "python",
   "name": "python3"
  },
  "language_info": {
   "codemirror_mode": {
    "name": "ipython",
    "version": 3
   },
   "file_extension": ".py",
   "mimetype": "text/x-python",
   "name": "python",
   "nbconvert_exporter": "python",
   "pygments_lexer": "ipython3",
   "version": "3.11.2"
  }
 },
 "nbformat": 4,
 "nbformat_minor": 5
}
