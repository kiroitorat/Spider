{
 "cells": [
  {
   "cell_type": "code",
   "execution_count": 12,
   "id": "f05c2609-a048-4647-8edb-44f8fc15dd60",
   "metadata": {},
   "outputs": [],
   "source": [
    "import requests\n",
    "from lxml import etree\n",
    "from selenium import webdriver\n",
    "import json"
   ]
  },
  {
   "cell_type": "markdown",
   "id": "b79a39b8-a609-4f8a-902d-1ccac6017e4b",
   "metadata": {},
   "source": [
    "先进行一个自动登录\n",
    "使用一个driver去提取cookie，在使用一个driver去进行登录"
   ]
  },
  {
   "cell_type": "code",
   "execution_count": 18,
   "id": "5f912da4-98d9-4eca-929a-c825c606b1d5",
   "metadata": {},
   "outputs": [],
   "source": [
    "loada_url = \"https://graph.qq.com/oauth2.0/authorize?response_type=code&client_id=100497308&redirect_uri=https%3A%2F%2Fy.qq.com%2Fportal%2Fwx_redirect.html%3Flogin_type%3D1%26surl%3Dhttps%3A%2F%2Fy.qq.com%2F&state=state&display=pc&scope=get_user_info%2Cget_app_friends\"\n",
    "driver = webdriver.Chrome()\n",
    "driver.get(load_url)"
   ]
  },
  {
   "cell_type": "code",
   "execution_count": 7,
   "id": "d7067a60-0755-41a5-9aa7-e49a4c6c2a2e",
   "metadata": {},
   "outputs": [],
   "source": [
    "cookies = driver.get_cookies()"
   ]
  },
  {
   "cell_type": "code",
   "execution_count": 14,
   "id": "240c2421-d366-4205-8f8e-9fb793131f8e",
   "metadata": {},
   "outputs": [],
   "source": [
    "cookies_library = json.dumps(cookies)"
   ]
  },
  {
   "cell_type": "code",
   "execution_count": 15,
   "id": "436f149a-a3ee-45f5-a120-a1d409666cdc",
   "metadata": {},
   "outputs": [],
   "source": [
    "with open(\"qq_cookies.txt\", 'w', encoding = 'utf-8')as file:\n",
    "    file.write(cookies_library)"
   ]
  },
  {
   "cell_type": "code",
   "execution_count": 28,
   "id": "a5a1a83e-42a3-43d5-b881-a8ffe7188445",
   "metadata": {},
   "outputs": [],
   "source": [
    "\n",
    "driver_2 = webdriver.Chrome()\n",
    "driver_2.get(\"https://y.qq.com/\")"
   ]
  },
  {
   "cell_type": "code",
   "execution_count": 19,
   "id": "6650f6ff-a431-477c-ad9f-d62b07f09fd8",
   "metadata": {},
   "outputs": [],
   "source": [
    "with open(\"qq_cookies.txt\", 'r', encoding = 'utf-8')as file:\n",
    "    cooikes_str = file.read()\n",
    "\n",
    "c = json.loads(cooikes_str)"
   ]
  },
  {
   "cell_type": "code",
   "execution_count": 29,
   "id": "4dd4dd76-afd2-4ace-b74d-6565692e7577",
   "metadata": {},
   "outputs": [],
   "source": [
    "for cookie in c:\n",
    "    driver_2.add_cookie(cookie)\n",
    "driver_2.refresh()"
   ]
  },
  {
   "cell_type": "markdown",
   "id": "99681ff9-0bd9-4eea-b354-d70d6dc709e5",
   "metadata": {},
   "source": [
    "然后进行一个周杰伦的搜索,我直接手动来了"
   ]
  },
  {
   "cell_type": "code",
   "execution_count": 37,
   "id": "8ad92939-db9b-44cd-840c-c324618e5e6a",
   "metadata": {},
   "outputs": [],
   "source": [
    "url_zjl = \"https://y.qq.com/n/ryqq/search?w=%E5%91%A8%E6%9D%B0%E4%BC%A6&t=song&remoteplace=txt.yqq.top\""
   ]
  },
  {
   "cell_type": "code",
   "execution_count": null,
   "id": "1f262ff7-1054-4db0-946d-30259dbc9aa1",
   "metadata": {},
   "outputs": [],
   "source": []
  }
 ],
 "metadata": {
  "kernelspec": {
   "display_name": "Python 3 (ipykernel)",
   "language": "python",
   "name": "python3"
  },
  "language_info": {
   "codemirror_mode": {
    "name": "ipython",
    "version": 3
   },
   "file_extension": ".py",
   "mimetype": "text/x-python",
   "name": "python",
   "nbconvert_exporter": "python",
   "pygments_lexer": "ipython3",
   "version": "3.11.2"
  }
 },
 "nbformat": 4,
 "nbformat_minor": 5
}
