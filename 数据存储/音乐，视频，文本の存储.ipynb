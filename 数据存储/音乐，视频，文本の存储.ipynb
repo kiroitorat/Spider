{
 "cells": [
  {
   "cell_type": "markdown",
   "id": "5c8f5476-79cd-429a-a189-c4c390635d8a",
   "metadata": {},
   "source": [
    "首先肯定是提取，这里那几个例子，比如扣扣音乐，哔哩哔哩，黑丝标题"
   ]
  },
  {
   "cell_type": "code",
   "execution_count": 1,
   "id": "faea038c-18ba-4e2c-bd7e-f69c898e95e5",
   "metadata": {},
   "outputs": [],
   "source": [
    "import requests\n",
    "import csv\n",
    "from lxml import etree\n",
    "\n",
    "url_music = \"https://lv-sycdn.kuwo.cn/ddba1635a065ca31cc684da826355b03/6524e8bc/resource/30106/trackmedia/M800004bfQ2t3H8Cn0.mp3\"\n",
    "url_vedio = \"\"\n",
    "url_heisi = \"https://search.bilibili.com/all?vt=18526400&keyword=%E9%BB%91%E4%B8%9D&from_source=webtop_search&spm_id_from=333.788&search_source=5\"\n",
    "\n",
    "headers = {\"User-Agent\":\"Mozilla/5.0 (Windows NT 10.0; Win64; x64) AppleWebKit/537.36 (KHTML, like Gecko) Chrome/117.0.0.0 Safari/537.36\"}\n"
   ]
  },
  {
   "cell_type": "markdown",
   "id": "e5e1ae2a-24cb-4348-92bb-f9409cd45e17",
   "metadata": {},
   "source": [
    "咱先来音乐"
   ]
  },
  {
   "cell_type": "code",
   "execution_count": 2,
   "id": "cc1375db-f752-499a-9da5-3d8e0f80f7eb",
   "metadata": {},
   "outputs": [],
   "source": [
    "response = requests.request(\"get\",url_music,headers=headers)\n",
    "content = response.content\n",
    "\n",
    "with open(\"酷我音乐_1.mp3\", 'wb')as file:\n",
    "    file.write(content)"
   ]
  },
  {
   "cell_type": "markdown",
   "id": "44cfe12e-20fb-437a-be59-36611135b939",
   "metadata": {},
   "source": [
    "然后再来文本"
   ]
  },
  {
   "cell_type": "code",
   "execution_count": 4,
   "id": "0259d8c8-9f78-49a6-9c0d-66e4455b5336",
   "metadata": {},
   "outputs": [],
   "source": [
    "response_text = requests.request('get', url_heisi, headers=headers)\n",
    "\n",
    "tree = etree.HTML(response_text.text)\n",
    "heisi_title = tree.xpath('//h3[@title]')\n",
    "\n",
    "with open(\"heisi.csv\", 'w', encoding=\"utf-8\")as file:\n",
    "    csv_writer = csv.writer(file)\n",
    "    for title in heisi_title:\n",
    "        try:\n",
    "            if title.text.find(\"性感\")!=-1:\n",
    "                csv_writer.writerow(title.text)\n",
    "        except Exception as e:\n",
    "            csv_writer.writerow(\"None\")"
   ]
  },
  {
   "cell_type": "code",
   "execution_count": null,
   "id": "38802d49-3352-4aa4-b55a-874e93512265",
   "metadata": {},
   "outputs": [],
   "source": []
  },
  {
   "cell_type": "code",
   "execution_count": null,
   "id": "095f67a0-8edf-4bb4-adb2-82742f603f9b",
   "metadata": {},
   "outputs": [],
   "source": []
  }
 ],
 "metadata": {
  "kernelspec": {
   "display_name": "Python 3 (ipykernel)",
   "language": "python",
   "name": "python3"
  },
  "language_info": {
   "codemirror_mode": {
    "name": "ipython",
    "version": 3
   },
   "file_extension": ".py",
   "mimetype": "text/x-python",
   "name": "python",
   "nbconvert_exporter": "python",
   "pygments_lexer": "ipython3",
   "version": "3.11.2"
  }
 },
 "nbformat": 4,
 "nbformat_minor": 5
}
