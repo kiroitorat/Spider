{
 "cells": [
  {
   "cell_type": "markdown",
   "id": "d692f96f-86bb-4592-8ff1-df066c1e07fd",
   "metadata": {},
   "source": [
    "## 两个模式\n",
    "笔记模式和代码模式\n"
   ]
  },
  {
   "cell_type": "code",
   "execution_count": 1,
   "id": "8be7a57e-7381-45a3-9d6b-1bfd5f745f58",
   "metadata": {},
   "outputs": [
    {
     "name": "stdout",
     "output_type": "stream",
     "text": [
      "hello spider!\n"
     ]
    }
   ],
   "source": [
    "print(\"hello spider!\")"
   ]
  }
 ],
 "metadata": {
  "kernelspec": {
   "display_name": "Python 3 (ipykernel)",
   "language": "python",
   "name": "python3"
  },
  "language_info": {
   "codemirror_mode": {
    "name": "ipython",
    "version": 3
   },
   "file_extension": ".py",
   "mimetype": "text/x-python",
   "name": "python",
   "nbconvert_exporter": "python",
   "pygments_lexer": "ipython3",
   "version": "3.11.2"
  }
 },
 "nbformat": 4,
 "nbformat_minor": 5
}
