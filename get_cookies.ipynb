{
 "cells": [
  {
   "cell_type": "code",
   "execution_count": 2,
   "id": "5e24c1fb-7f35-412a-8230-5130d7659226",
   "metadata": {},
   "outputs": [],
   "source": [
    "from selenium import webdriver\n",
    "url = \"https://www.bilibili.com/\"\n",
    "d = webdriver.Chrome()\n",
    "d.get(url)"
   ]
  },
  {
   "cell_type": "markdown",
   "id": "d2ffe1e3-b7fb-4a80-a29c-994fa6e4482f",
   "metadata": {},
   "source": [
    "###Cookie的特性：\n",
    " ·cookie是由服务器返回的具有时效的密钥\n",
    " ·cookie储存在浏览器中，键值存储\n",
    " ·网站自动携带有效的cookie"
   ]
  },
  {
   "cell_type": "code",
   "execution_count": 3,
   "id": "eb6d8fb7-2bed-4e30-abc5-9d96e5c834dd",
   "metadata": {},
   "outputs": [],
   "source": [
    "url_2 = \"https://mail.163.com/#module=welcome.WelcomeModule%7C%7B%7D\""
   ]
  },
  {
   "cell_type": "code",
   "execution_count": 4,
   "id": "cb6b15d7-4b09-4f13-a7d7-651e6557c51c",
   "metadata": {},
   "outputs": [],
   "source": [
    "d.get(url_2)"
   ]
  },
  {
   "cell_type": "markdown",
   "id": "5484c2d4-3add-4fa9-82d6-6353b2d5708a",
   "metadata": {},
   "source": [
    "##手动登录后，进行一个cookie的提取"
   ]
  },
  {
   "cell_type": "code",
   "execution_count": 7,
   "id": "1cc711ab-3059-4f7c-ba37-6d791b943df2",
   "metadata": {},
   "outputs": [],
   "source": [
    "cookies = d.get_cookies()"
   ]
  },
  {
   "cell_type": "markdown",
   "id": "31a00f6c-9e8f-4833-889d-54a64ce7ced8",
   "metadata": {},
   "source": [
    "##使用json，将数据转化为文本"
   ]
  },
  {
   "cell_type": "code",
   "execution_count": 8,
   "id": "4008b631-f150-4da2-8d44-1ca672f815ae",
   "metadata": {},
   "outputs": [],
   "source": [
    "import json\n",
    "cookies_str = json.dumps(cookies)"
   ]
  },
  {
   "cell_type": "markdown",
   "id": "08cb206b-2fb6-4b67-84ce-f2ec7e209ed8",
   "metadata": {},
   "source": [
    "##将文本储存到文件中"
   ]
  },
  {
   "cell_type": "code",
   "execution_count": 9,
   "id": "96418890-73c8-4e0d-9383-fcc75be4527c",
   "metadata": {},
   "outputs": [],
   "source": [
    "with open(\"cookies.txt\", \"w\", encoding=\"utf-8\")as file:\n",
    "    file.write(cookies_str)"
   ]
  }
 ],
 "metadata": {
  "kernelspec": {
   "display_name": "Python 3 (ipykernel)",
   "language": "python",
   "name": "python3"
  },
  "language_info": {
   "codemirror_mode": {
    "name": "ipython",
    "version": 3
   },
   "file_extension": ".py",
   "mimetype": "text/x-python",
   "name": "python",
   "nbconvert_exporter": "python",
   "pygments_lexer": "ipython3",
   "version": "3.11.2"
  }
 },
 "nbformat": 4,
 "nbformat_minor": 5
}
