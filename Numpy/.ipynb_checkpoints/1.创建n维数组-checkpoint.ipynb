{
 "cells": [
  {
   "cell_type": "code",
   "execution_count": 1,
   "id": "87f7880e-23be-4329-b38b-02933e66cf5b",
   "metadata": {},
   "outputs": [],
   "source": [
    "import numpy as np\n",
    "import pandas as pd\n",
    "import matplotlib.pyplot as plt"
   ]
  },
  {
   "cell_type": "code",
   "execution_count": 2,
   "id": "a31a70b2-9329-4b27-870b-b8a2dda46c66",
   "metadata": {},
   "outputs": [],
   "source": [
    "n = np.array([1,5,2,5,1,5,7,83])"
   ]
  },
  {
   "cell_type": "markdown",
   "id": "c831ad3d-444d-49f4-a8ea-6b97687c650b",
   "metadata": {},
   "source": [
    "**2.使用np的routines函数创建\n",
    "    参数为（shape，dtype，order）\n",
    "    1)np.ones\n",
    "    2)np.zeros**"
   ]
  },
  {
   "cell_type": "code",
   "execution_count": 6,
   "id": "f16decbb-bef7-409c-b9cb-c44084e903d5",
   "metadata": {},
   "outputs": [
    {
     "data": {
      "text/plain": [
       "array([[1, 1, 1, 1],\n",
       "       [1, 1, 1, 1],\n",
       "       [1, 1, 1, 1],\n",
       "       [1, 1, 1, 1]], dtype=int16)"
      ]
     },
     "execution_count": 6,
     "metadata": {},
     "output_type": "execute_result"
    }
   ],
   "source": [
    "n = np.ones(shape=(4,4),dtype=np.int16,order='C')\n",
    "n"
   ]
  },
  {
   "cell_type": "code",
   "execution_count": 7,
   "id": "81c2f6c3-95e6-49ea-b3b1-24d0316868b9",
   "metadata": {},
   "outputs": [
    {
     "data": {
      "text/plain": [
       "array([[0, 0, 0, 0],\n",
       "       [0, 0, 0, 0],\n",
       "       [0, 0, 0, 0],\n",
       "       [0, 0, 0, 0]], dtype=int16)"
      ]
     },
     "execution_count": 7,
     "metadata": {},
     "output_type": "execute_result"
    }
   ],
   "source": [
    "n = np.zeros(shape=(4,4),dtype=np.int16,order='C')\n",
    "n"
   ]
  },
  {
   "cell_type": "markdown",
   "id": "2ac562dd-f3ae-4039-99bf-ef2e175ecac8",
   "metadata": {},
   "source": [
    "**以上都是创建元素全是1或者0的数组，接下来我们创建任意元素的数组**"
   ]
  },
  {
   "cell_type": "markdown",
   "id": "14a8341e-58dd-4a61-a73a-dbb356952cb9",
   "metadata": {},
   "source": [
    "**3.np.full(shape,value,dtype,order)**"
   ]
  },
  {
   "cell_type": "code",
   "execution_count": 8,
   "id": "8fef731c-f0ba-4973-926b-7474e52f8402",
   "metadata": {},
   "outputs": [
    {
     "data": {
      "text/plain": [
       "array([[2, 2, 2, 2],\n",
       "       [2, 2, 2, 2],\n",
       "       [2, 2, 2, 2],\n",
       "       [2, 2, 2, 2]])"
      ]
     },
     "execution_count": 8,
     "metadata": {},
     "output_type": "execute_result"
    }
   ],
   "source": [
    "n = np.full((4,4),2)\n",
    "n"
   ]
  },
  {
   "cell_type": "markdown",
   "id": "c1caface-1e61-4cd7-b306-f4925efde334",
   "metadata": {},
   "source": [
    "**4.创建对角线矩阵，即单位矩阵：\n",
    "    np.eye(row,col,k,dtype),k是偏移位置**"
   ]
  },
  {
   "cell_type": "code",
   "execution_count": 9,
   "id": "b0d0fbc4-37fa-4454-ac2d-821ec689bace",
   "metadata": {},
   "outputs": [
    {
     "data": {
      "text/plain": [
       "array([[1., 0., 0., 0., 0., 0.],\n",
       "       [0., 1., 0., 0., 0., 0.],\n",
       "       [0., 0., 1., 0., 0., 0.],\n",
       "       [0., 0., 0., 1., 0., 0.],\n",
       "       [0., 0., 0., 0., 1., 0.],\n",
       "       [0., 0., 0., 0., 0., 1.]])"
      ]
     },
     "execution_count": 9,
     "metadata": {},
     "output_type": "execute_result"
    }
   ],
   "source": [
    "n = np.eye(6,6)\n",
    "n"
   ]
  },
  {
   "cell_type": "code",
   "execution_count": null,
   "id": "88a68b60-b088-4648-b6eb-3c60c0f4426e",
   "metadata": {},
   "outputs": [],
   "source": []
  }
 ],
 "metadata": {
  "kernelspec": {
   "display_name": "Python 3 (ipykernel)",
   "language": "python",
   "name": "python3"
  },
  "language_info": {
   "codemirror_mode": {
    "name": "ipython",
    "version": 3
   },
   "file_extension": ".py",
   "mimetype": "text/x-python",
   "name": "python",
   "nbconvert_exporter": "python",
   "pygments_lexer": "ipython3",
   "version": "3.11.2"
  }
 },
 "nbformat": 4,
 "nbformat_minor": 5
}
