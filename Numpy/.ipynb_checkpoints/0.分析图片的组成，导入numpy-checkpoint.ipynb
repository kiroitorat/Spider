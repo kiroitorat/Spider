{
 "cells": [
  {
   "cell_type": "markdown",
   "id": "c9781b0c-4e4f-4241-b76e-f0b19bbc469f",
   "metadata": {},
   "source": [
    "数据分析三剑客"
   ]
  },
  {
   "cell_type": "code",
   "execution_count": 3,
   "id": "00f985c7-b1d7-445a-b1c9-2abe7a467f1b",
   "metadata": {},
   "outputs": [],
   "source": [
    "import numpy as np\n",
    "import pandas as pd\n",
    "import matplotlib.pyplot as plt"
   ]
  },
  {
   "cell_type": "code",
   "execution_count": 6,
   "id": "3f01c5f2-05ab-44d0-8fd1-276285df94c1",
   "metadata": {},
   "outputs": [
    {
     "data": {
      "text/plain": [
       "'1.25.2'"
      ]
     },
     "execution_count": 6,
     "metadata": {},
     "output_type": "execute_result"
    }
   ],
   "source": [
    "np.__version__"
   ]
  },
  {
   "cell_type": "code",
   "execution_count": 10,
   "id": "1cd37d7d-d5f8-4d2e-808a-7499956591f5",
   "metadata": {
    "scrolled": true
   },
   "outputs": [
    {
     "data": {
      "text/plain": [
       "array([[[255, 254, 253],\n",
       "        [255, 254, 253],\n",
       "        [255, 254, 255],\n",
       "        ...,\n",
       "        [255, 255, 253],\n",
       "        [255, 255, 253],\n",
       "        [255, 255, 251]],\n",
       "\n",
       "       [[255, 254, 253],\n",
       "        [255, 254, 253],\n",
       "        [255, 254, 255],\n",
       "        ...,\n",
       "        [255, 255, 253],\n",
       "        [255, 255, 253],\n",
       "        [255, 255, 251]],\n",
       "\n",
       "       [[255, 254, 253],\n",
       "        [255, 254, 253],\n",
       "        [255, 254, 255],\n",
       "        ...,\n",
       "        [255, 255, 253],\n",
       "        [255, 255, 253],\n",
       "        [255, 255, 251]],\n",
       "\n",
       "       ...,\n",
       "\n",
       "       [[ 80,  58,  61],\n",
       "        [ 80,  58,  61],\n",
       "        [ 80,  58,  61],\n",
       "        ...,\n",
       "        [ 88,  67,  72],\n",
       "        [ 97,  74,  80],\n",
       "        [ 97,  74,  80]],\n",
       "\n",
       "       [[ 80,  58,  61],\n",
       "        [ 80,  58,  61],\n",
       "        [ 80,  58,  61],\n",
       "        ...,\n",
       "        [ 86,  65,  70],\n",
       "        [ 94,  71,  77],\n",
       "        [ 95,  72,  78]],\n",
       "\n",
       "       [[ 80,  58,  61],\n",
       "        [ 80,  58,  61],\n",
       "        [ 80,  58,  61],\n",
       "        ...,\n",
       "        [ 85,  64,  69],\n",
       "        [ 92,  69,  75],\n",
       "        [ 93,  70,  76]]], dtype=uint8)"
      ]
     },
     "execution_count": 10,
     "metadata": {},
     "output_type": "execute_result"
    }
   ],
   "source": [
    "cat_array = plt.imread('猫猫啃苹果.jpg')\n",
    "cat_array\n",
    "##使用plt.imread读取图片"
   ]
  },
  {
   "cell_type": "code",
   "execution_count": 15,
   "id": "b75f17db-240c-45d3-9894-cbd0a7f10787",
   "metadata": {},
   "outputs": [
    {
     "data": {
      "text/plain": [
       "numpy.ndarray"
      ]
     },
     "execution_count": 15,
     "metadata": {},
     "output_type": "execute_result"
    }
   ],
   "source": [
    "##图片的类型就是n元矩阵\n",
    "type(cat_array)"
   ]
  },
  {
   "cell_type": "markdown",
   "id": "3c0711df-7032-4acf-bebc-c1e75246f1c6",
   "metadata": {},
   "source": [
    "前面两个参数就是分辨率，最后一个参数是维度"
   ]
  },
  {
   "cell_type": "code",
   "execution_count": 17,
   "id": "a253dbb3-c330-4601-a153-0b1eb1717974",
   "metadata": {},
   "outputs": [
    {
     "data": {
      "text/plain": [
       "(2048, 1450, 3)"
      ]
     },
     "execution_count": 17,
     "metadata": {},
     "output_type": "execute_result"
    }
   ],
   "source": [
    "cat_array.shape"
   ]
  },
  {
   "cell_type": "markdown",
   "id": "7af2c11d-4a45-4281-b970-2c18108da808",
   "metadata": {},
   "source": [
    "#显示图片"
   ]
  },
  {
   "cell_type": "code",
   "execution_count": 18,
   "id": "16a295e2-8ef5-43a5-a2a9-54601bad4d15",
   "metadata": {},
   "outputs": [
    {
     "data": {
      "text/plain": [
       "<function matplotlib.pyplot.imshow(X: 'ArrayLike | PIL.Image.Image', cmap: 'str | Colormap | None' = None, norm: 'str | Normalize | None' = None, *, aspect: \"Literal['equal', 'auto'] | float | None\" = None, interpolation: 'str | None' = None, alpha: 'float | ArrayLike | None' = None, vmin: 'float | None' = None, vmax: 'float | None' = None, origin: \"Literal['upper', 'lower'] | None\" = None, extent: 'tuple[float, float, float, float] | None' = None, interpolation_stage: \"Literal['data', 'rgba'] | None\" = None, filternorm: 'bool' = True, filterrad: 'float' = 4.0, resample: 'bool | None' = None, url: 'str | None' = None, data=None, **kwargs) -> 'AxesImage'>"
      ]
     },
     "execution_count": 18,
     "metadata": {},
     "output_type": "execute_result"
    }
   ],
   "source": [
    "plt.imshow(cat_array)"
   ]
  },
  {
   "cell_type": "code",
   "execution_count": null,
   "id": "931dabd8-3ac8-40d4-aedf-c2f01e687b3c",
   "metadata": {},
   "outputs": [],
   "source": []
  }
 ],
 "metadata": {
  "kernelspec": {
   "display_name": "Python 3 (ipykernel)",
   "language": "python",
   "name": "python3"
  },
  "language_info": {
   "codemirror_mode": {
    "name": "ipython",
    "version": 3
   },
   "file_extension": ".py",
   "mimetype": "text/x-python",
   "name": "python",
   "nbconvert_exporter": "python",
   "pygments_lexer": "ipython3",
   "version": "3.11.2"
  }
 },
 "nbformat": 4,
 "nbformat_minor": 5
}
