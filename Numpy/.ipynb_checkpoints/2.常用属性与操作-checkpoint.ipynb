{
 "cells": [
  {
   "cell_type": "code",
   "execution_count": 1,
   "id": "ccc62889-aa9b-4227-ad55-065e4164f940",
   "metadata": {},
   "outputs": [],
   "source": [
    "import numpy as np\n",
    "import pandas as pd\n",
    "import matplotlib.pyplot as plt"
   ]
  },
  {
   "cell_type": "markdown",
   "id": "64926bc5-555a-490f-bc33-0b95ae4c9a72",
   "metadata": {},
   "source": [
    "# 属性有:\n",
    "## ndim:维度\n",
    "## shape:形状(各维度的长度)\n",
    "## size:总长度\n",
    "## dtype"
   ]
  },
  {
   "cell_type": "code",
   "execution_count": 9,
   "id": "e9128683-bc1c-47e4-b893-74351e022836",
   "metadata": {},
   "outputs": [
    {
     "data": {
      "text/plain": [
       "array([[[ 85, 217, 222],\n",
       "        [249, 137,  97],\n",
       "        [121, 191, 132]],\n",
       "\n",
       "       [[ 75,  59, 195],\n",
       "        [ 89,  20, 171],\n",
       "        [117,   0, 113]],\n",
       "\n",
       "       [[117,  99,  91],\n",
       "        [ 98,  25, 222],\n",
       "        [102, 127, 215]]], dtype=int16)"
      ]
     },
     "execution_count": 9,
     "metadata": {},
     "output_type": "execute_result"
    }
   ],
   "source": [
    "cat = np.random.randint(0, 255, (3,3,3), np.int16)\n",
    "cat"
   ]
  },
  {
   "cell_type": "code",
   "execution_count": 10,
   "id": "6b696d79-ecae-4e1c-94fd-9829a5ad447f",
   "metadata": {},
   "outputs": [
    {
     "data": {
      "text/plain": [
       "(3, 3, 3)"
      ]
     },
     "execution_count": 10,
     "metadata": {},
     "output_type": "execute_result"
    }
   ],
   "source": [
    "cat.shape"
   ]
  },
  {
   "cell_type": "code",
   "execution_count": 11,
   "id": "4fab9cf5-8e3f-4e85-b794-013c0cdfc1c7",
   "metadata": {},
   "outputs": [
    {
     "data": {
      "text/plain": [
       "27"
      ]
     },
     "execution_count": 11,
     "metadata": {},
     "output_type": "execute_result"
    }
   ],
   "source": [
    "cat.size"
   ]
  },
  {
   "cell_type": "code",
   "execution_count": 12,
   "id": "9773e80a-e318-48c1-b0d9-90caf33ef2a0",
   "metadata": {},
   "outputs": [
    {
     "data": {
      "text/plain": [
       "3"
      ]
     },
     "execution_count": 12,
     "metadata": {},
     "output_type": "execute_result"
    }
   ],
   "source": [
    "cat.ndim"
   ]
  },
  {
   "cell_type": "code",
   "execution_count": 13,
   "id": "6cbda341-a831-4972-9ec8-48f4c06030e5",
   "metadata": {},
   "outputs": [
    {
     "data": {
      "text/plain": [
       "dtype('int16')"
      ]
     },
     "execution_count": 13,
     "metadata": {},
     "output_type": "execute_result"
    }
   ],
   "source": [
    "cat.dtype"
   ]
  },
  {
   "cell_type": "markdown",
   "id": "e602c661-473c-4730-92a5-ad3ba9861aa7",
   "metadata": {},
   "source": [
    "# 操作:\n",
    "## 1.索引\n",
    "## 2.切片"
   ]
  },
  {
   "cell_type": "code",
   "execution_count": 23,
   "id": "de44d791-c1ea-4a36-b282-138f679b9b1e",
   "metadata": {},
   "outputs": [
    {
     "data": {
      "text/plain": [
       "215"
      ]
     },
     "execution_count": 23,
     "metadata": {},
     "output_type": "execute_result"
    }
   ],
   "source": [
    "cat_part = cat[2][2][2]\n",
    "cat_part"
   ]
  },
  {
   "cell_type": "markdown",
   "id": "8fc3f2bc-fe6a-454e-9147-726d9975bdb3",
   "metadata": {},
   "source": [
    "或者可以简写为[2,2,2]"
   ]
  },
  {
   "cell_type": "markdown",
   "id": "9cdac482-9fd7-4f0d-82d8-9a0656234020",
   "metadata": {},
   "source": [
    "## 切片跟python一致"
   ]
  },
  {
   "cell_type": "code",
   "execution_count": 40,
   "id": "36a9a542-c784-4366-a0c3-81813d5fd190",
   "metadata": {},
   "outputs": [
    {
     "data": {
      "text/plain": [
       "array([[[ 85, 217, 222],\n",
       "        [249, 137,  97],\n",
       "        [121, 191, 132]],\n",
       "\n",
       "       [[ 75,  59, 195],\n",
       "        [ 89,  20, 171],\n",
       "        [117,   0, 113]],\n",
       "\n",
       "       [[117,  99,  91],\n",
       "        [ 98,  25, 222],\n",
       "        [102, 127, 215]]], dtype=int16)"
      ]
     },
     "execution_count": 40,
     "metadata": {},
     "output_type": "execute_result"
    }
   ],
   "source": [
    "cat_slide = cat[:3]\n",
    "cat_slide"
   ]
  },
  {
   "cell_type": "markdown",
   "id": "3b06e084-f94f-4106-98f8-4e78c77ce1e1",
   "metadata": {},
   "source": [
    "## 切片二维及以上的需要用到以下方式"
   ]
  },
  {
   "cell_type": "code",
   "execution_count": 41,
   "id": "e901f985-fdf0-42a7-9724-f2cc84756ecc",
   "metadata": {},
   "outputs": [],
   "source": [
    "ex_a_2 = np.random.randint(1, 20, (2,2))\n",
    "ex_a_3 = np.random.randint(1, 20, (3,3))"
   ]
  },
  {
   "cell_type": "code",
   "execution_count": null,
   "id": "409fbbbd-e320-47ed-84f5-aeda083eb512",
   "metadata": {},
   "outputs": [],
   "source": []
  }
 ],
 "metadata": {
  "kernelspec": {
   "display_name": "Python 3 (ipykernel)",
   "language": "python",
   "name": "python3"
  },
  "language_info": {
   "codemirror_mode": {
    "name": "ipython",
    "version": 3
   },
   "file_extension": ".py",
   "mimetype": "text/x-python",
   "name": "python",
   "nbconvert_exporter": "python",
   "pygments_lexer": "ipython3",
   "version": "3.11.2"
  }
 },
 "nbformat": 4,
 "nbformat_minor": 5
}
