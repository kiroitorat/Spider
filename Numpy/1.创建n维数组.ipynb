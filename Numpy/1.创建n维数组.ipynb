{
 "cells": [
  {
   "cell_type": "code",
   "execution_count": 2,
   "id": "87f7880e-23be-4329-b38b-02933e66cf5b",
   "metadata": {},
   "outputs": [],
   "source": [
    "import numpy as np\n",
    "import pandas as pd\n",
    "import matplotlib.pyplot as plt"
   ]
  },
  {
   "cell_type": "code",
   "execution_count": 2,
   "id": "a31a70b2-9329-4b27-870b-b8a2dda46c66",
   "metadata": {},
   "outputs": [],
   "source": [
    "n = np.array([1,5,2,5,1,5,7,83])"
   ]
  },
  {
   "cell_type": "markdown",
   "id": "c831ad3d-444d-49f4-a8ea-6b97687c650b",
   "metadata": {},
   "source": [
    "# 2.使用np的routines函数创建\n",
    "## 参数为（shape，dtype，order）\n",
    "### 1)np.ones\n",
    "### 2)np.zeros"
   ]
  },
  {
   "cell_type": "code",
   "execution_count": 6,
   "id": "f16decbb-bef7-409c-b9cb-c44084e903d5",
   "metadata": {},
   "outputs": [
    {
     "data": {
      "text/plain": [
       "array([[1, 1, 1, 1],\n",
       "       [1, 1, 1, 1],\n",
       "       [1, 1, 1, 1],\n",
       "       [1, 1, 1, 1]], dtype=int16)"
      ]
     },
     "execution_count": 6,
     "metadata": {},
     "output_type": "execute_result"
    }
   ],
   "source": [
    "n = np.ones(shape=(4,4),dtype=np.int16,order='C')\n",
    "n"
   ]
  },
  {
   "cell_type": "code",
   "execution_count": 7,
   "id": "81c2f6c3-95e6-49ea-b3b1-24d0316868b9",
   "metadata": {},
   "outputs": [
    {
     "data": {
      "text/plain": [
       "array([[0, 0, 0, 0],\n",
       "       [0, 0, 0, 0],\n",
       "       [0, 0, 0, 0],\n",
       "       [0, 0, 0, 0]], dtype=int16)"
      ]
     },
     "execution_count": 7,
     "metadata": {},
     "output_type": "execute_result"
    }
   ],
   "source": [
    "n = np.zeros(shape=(4,4),dtype=np.int16,order='C')\n",
    "n"
   ]
  },
  {
   "cell_type": "markdown",
   "id": "2ac562dd-f3ae-4039-99bf-ef2e175ecac8",
   "metadata": {},
   "source": [
    "**以上都是创建元素全是1或者0的数组，接下来我们创建任意元素的数组**"
   ]
  },
  {
   "cell_type": "markdown",
   "id": "14a8341e-58dd-4a61-a73a-dbb356952cb9",
   "metadata": {},
   "source": [
    "**3.np.full(shape,value,dtype,order)**"
   ]
  },
  {
   "cell_type": "code",
   "execution_count": 8,
   "id": "8fef731c-f0ba-4973-926b-7474e52f8402",
   "metadata": {},
   "outputs": [
    {
     "data": {
      "text/plain": [
       "array([[2, 2, 2, 2],\n",
       "       [2, 2, 2, 2],\n",
       "       [2, 2, 2, 2],\n",
       "       [2, 2, 2, 2]])"
      ]
     },
     "execution_count": 8,
     "metadata": {},
     "output_type": "execute_result"
    }
   ],
   "source": [
    "n = np.full((4,4),2)\n",
    "n"
   ]
  },
  {
   "cell_type": "markdown",
   "id": "c1caface-1e61-4cd7-b306-f4925efde334",
   "metadata": {},
   "source": [
    "# 4.创建对角线矩阵，即单位矩阵：\n",
    "## np.eye(row,col,k,dtype),k是偏移位置"
   ]
  },
  {
   "cell_type": "code",
   "execution_count": 16,
   "id": "b0d0fbc4-37fa-4454-ac2d-821ec689bace",
   "metadata": {},
   "outputs": [
    {
     "data": {
      "text/plain": [
       "array([[1, 0, 0, 0, 0, 0],\n",
       "       [0, 1, 0, 0, 0, 0],\n",
       "       [0, 0, 1, 0, 0, 0],\n",
       "       [0, 0, 0, 1, 0, 0],\n",
       "       [0, 0, 0, 0, 1, 0],\n",
       "       [0, 0, 0, 0, 0, 1]], dtype=int16)"
      ]
     },
     "execution_count": 16,
     "metadata": {},
     "output_type": "execute_result"
    }
   ],
   "source": [
    "n = np.eye(6,6,0,np.int16)\n",
    "n"
   ]
  },
  {
   "cell_type": "markdown",
   "id": "b43abc0b-ae5f-4e17-a685-0e65ef7033fc",
   "metadata": {},
   "source": [
    "# 5.创建等差数列\n",
    "##  linspace(start,  stop,   num,      endpoint=True, retstep=False , dtype)\n",
    "##            开始值 结束值  有多少数  包含结束值     是否返回等差额  "
   ]
  },
  {
   "cell_type": "code",
   "execution_count": 22,
   "id": "94a11afc-3e16-4391-a465-1e703a40901d",
   "metadata": {
    "scrolled": true
   },
   "outputs": [
    {
     "data": {
      "text/plain": [
       "(array([  0,   1,   2,   3,   4,   5,   6,   7,   8,   9,  10,  11,  12,\n",
       "         13,  14,  15,  16,  17,  18,  19,  20,  21,  22,  23,  24,  25,\n",
       "         26,  27,  28,  29,  30,  31,  32,  33,  34,  35,  36,  37,  38,\n",
       "         39,  40,  41,  42,  43,  44,  45,  46,  47,  48,  49,  50,  51,\n",
       "         52,  53,  54,  55,  56,  57,  58,  59,  60,  61,  62,  63,  64,\n",
       "         65,  66,  67,  68,  69,  70,  71,  72,  73,  74,  75,  76,  77,\n",
       "         78,  79,  80,  81,  82,  83,  84,  85,  86,  87,  88,  89,  90,\n",
       "         91,  92,  93,  94,  95,  96,  97,  98, 100], dtype=int16),\n",
       " 1.0101010101010102)"
      ]
     },
     "execution_count": 22,
     "metadata": {},
     "output_type": "execute_result"
    }
   ],
   "source": [
    "n = np.linspace(0, 100, 100, True, True , np.int16)\n",
    "n"
   ]
  },
  {
   "cell_type": "markdown",
   "id": "9cfaa43f-b5c9-4a8f-ac05-eb05cf977f9b",
   "metadata": {},
   "source": [
    "# 6.创建一个数值范围的数组\n",
    "##  np.arange(start, stop, step, dtype)"
   ]
  },
  {
   "cell_type": "code",
   "execution_count": 24,
   "id": "e45184f2-7e84-4c99-ae15-efe0036ef067",
   "metadata": {},
   "outputs": [
    {
     "data": {
      "text/plain": [
       "array([ 0,  5, 10, 15, 20, 25, 30, 35, 40, 45, 50, 55, 60, 65, 70, 75, 80,\n",
       "       85, 90, 95], dtype=int8)"
      ]
     },
     "execution_count": 24,
     "metadata": {},
     "output_type": "execute_result"
    }
   ],
   "source": [
    "n = np.arange(0, 100, 5, np.int8)\n",
    "n"
   ]
  },
  {
   "cell_type": "markdown",
   "id": "8422dac5-8713-40e6-89ef-0c3f4451c968",
   "metadata": {},
   "source": [
    "# 8.随机数的多维数组\n",
    "## np.random.randint(low, hign=None, size=None, dtype='I')\n",
    "### low:最小值\n",
    "### high:最大值，默认为None\n",
    "#### 当high=None时，范围为【0，low)\n",
    "#### 当指定high的数时间，范围为【low,high)的左闭右开区间\n",
    "### size:shape形状,表示输出的个数\n",
    "### dtype:元素类型\n"
   ]
  },
  {
   "cell_type": "code",
   "execution_count": 93,
   "id": "23d6833f-d2b6-4be9-80d5-3d87fcedf466",
   "metadata": {
    "scrolled": true
   },
   "outputs": [
    {
     "data": {
      "text/plain": [
       "array([[[215, 168,  96],\n",
       "        [163,  43,  79],\n",
       "        [  9, 235, 132],\n",
       "        ...,\n",
       "        [198,  32,  51],\n",
       "        [144,  97, 167],\n",
       "        [ 36, 214, 199]],\n",
       "\n",
       "       [[ 21, 114, 245],\n",
       "        [ 82,  41, 130],\n",
       "        [ 44, 153, 244],\n",
       "        ...,\n",
       "        [147,  91, 102],\n",
       "        [ 84, 168,  35],\n",
       "        [ 46,  66, 142]],\n",
       "\n",
       "       [[ 24, 185, 196],\n",
       "        [233, 150, 161],\n",
       "        [ 70, 124, 137],\n",
       "        ...,\n",
       "        [220, 145,  92],\n",
       "        [109, 212, 197],\n",
       "        [157, 149,  29]],\n",
       "\n",
       "       ...,\n",
       "\n",
       "       [[ 30,  83,   7],\n",
       "        [220, 155, 141],\n",
       "        [111,  75, 155],\n",
       "        ...,\n",
       "        [ 86, 136, 226],\n",
       "        [ 75, 140, 220],\n",
       "        [  7, 112, 218]],\n",
       "\n",
       "       [[ 95, 201,  44],\n",
       "        [164,  45,  83],\n",
       "        [ 89, 134, 239],\n",
       "        ...,\n",
       "        [ 65, 232, 203],\n",
       "        [ 23,  57, 116],\n",
       "        [240, 210, 224]],\n",
       "\n",
       "       [[181,  23, 105],\n",
       "        [171,  76,  98],\n",
       "        [226,  27,   4],\n",
       "        ...,\n",
       "        [ 84, 223, 219],\n",
       "        [241, 207, 233],\n",
       "        [149,  38,  55]]], dtype=int16)"
      ]
     },
     "execution_count": 93,
     "metadata": {},
     "output_type": "execute_result"
    }
   ],
   "source": [
    "n = np.random.randint(0, 255, (30,30,3), np.int16)\n",
    "n"
   ]
  },
  {
   "cell_type": "code",
   "execution_count": 46,
   "id": "d7cc7f48-2f7c-4fec-a306-6fe41a05fab7",
   "metadata": {
    "scrolled": true
   },
   "outputs": [
    {
     "data": {
      "text/plain": [
       "<matplotlib.image.AxesImage at 0x1ac21548fd0>"
      ]
     },
     "execution_count": 46,
     "metadata": {},
     "output_type": "execute_result"
    },
    {
     "data": {
      "image/png": "[encoded data removed]",
      "text/plain": [
       "<Figure size 640x480 with 1 Axes>"
      ]
     },
     "metadata": {},
     "output_type": "display_data"
    }
   ],
   "source": [
    "plt.imshow(n)"
   ]
  },
  {
   "cell_type": "markdown",
   "id": "65d17915-629a-44ac-8211-8558518f1b6c",
   "metadata": {},
   "source": [
    "# 9.正态分布的多维数组\n",
    "## np.random.randn(d0, d1..........,dn)"
   ]
  },
  {
   "cell_type": "code",
   "execution_count": 53,
   "id": "d30f4964-ce13-4de5-80a8-eb0fe5c993e4",
   "metadata": {
    "scrolled": true
   },
   "outputs": [
    {
     "data": {
      "text/plain": [
       "array([[ 0.68170244,  1.02924598,  0.93215234],\n",
       "       [ 0.2332617 , -0.23105008, -0.01299837],\n",
       "       [ 0.50664751, -0.17504505, -0.95946369],\n",
       "       [-1.40428928, -0.02720719,  0.47971574],\n",
       "       [-0.90259457,  0.40958436, -0.05360995],\n",
       "       [-1.012448  ,  1.05889665, -0.29620212],\n",
       "       [-0.68458782, -0.89615493, -1.57245252],\n",
       "       [-0.62535363,  0.05540289, -0.89028602],\n",
       "       [ 0.18430476,  0.640912  , -0.64481282],\n",
       "       [-1.97549036, -1.47501266, -0.19352381]])"
      ]
     },
     "execution_count": 53,
     "metadata": {},
     "output_type": "execute_result"
    }
   ],
   "source": [
    "n = np.random.randn(10,3)\n",
    "n"
   ]
  },
  {
   "cell_type": "markdown",
   "id": "a189d5c3-89b1-4f04-823e-6f4977b7a139",
   "metadata": {},
   "source": [
    "# 10.正态分布的多维数组自定义\n",
    "## np.random.normal(loc=0.0, scale=1.0, size=None)\n",
    "### loc表示均值\n",
    "### scale表示标准差，越大曲线就越矮胖\n",
    "### size表示shape形状"
   ]
  },
  {
   "cell_type": "markdown",
   "id": "20ce3524-d141-489f-b60a-eba91fc5443c",
   "metadata": {},
   "source": [
    "# **11.创建一个元素在0-1左闭右开的随机多维数组**\n",
    "## np.random.rand(d0, d1,............,dn)"
   ]
  },
  {
   "cell_type": "code",
   "execution_count": 61,
   "id": "a579e631-a3ca-461f-8c8d-bc64af8a90bc",
   "metadata": {},
   "outputs": [
    {
     "data": {
      "text/plain": [
       "array([[[0.22607806, 0.26981511, 0.4970112 ],\n",
       "        [0.5280448 , 0.39760735, 0.14817915],\n",
       "        [0.46333393, 0.80765628, 0.30927366]],\n",
       "\n",
       "       [[0.48477622, 0.32154579, 0.81300843],\n",
       "        [0.62863425, 0.5047236 , 0.07251793],\n",
       "        [0.46836597, 0.17604997, 0.31991192]],\n",
       "\n",
       "       [[0.48781503, 0.68833228, 0.42867471],\n",
       "        [0.72663413, 0.04420415, 0.10604225],\n",
       "        [0.50457495, 0.00829763, 0.75972126]]])"
      ]
     },
     "execution_count": 61,
     "metadata": {},
     "output_type": "execute_result"
    }
   ],
   "source": [
    "n = np.random.rand(3,3,3)\n",
    "n"
   ]
  },
  {
   "cell_type": "markdown",
   "id": "ad801370-c665-4d33-a114-469a09f9120f",
   "metadata": {},
   "source": []
  },
  {
   "cell_type": "code",
   "execution_count": null,
   "id": "726688e8-0b1e-48ae-adad-b4b72a0f2f59",
   "metadata": {},
   "outputs": [],
   "source": []
  },
  {
   "cell_type": "code",
   "execution_count": null,
   "id": "017952cc-3e0c-460b-9332-e931dcb095ba",
   "metadata": {},
   "outputs": [],
   "source": []
  },
  {
   "cell_type": "code",
   "execution_count": null,
   "id": "22e8e4cf-0919-4567-8e3e-4711dc890d48",
   "metadata": {},
   "outputs": [],
   "source": []
  },
  {
   "cell_type": "code",
   "execution_count": null,
   "id": "5ab09485-15fd-4607-afb5-850d56ae04c8",
   "metadata": {},
   "outputs": [],
   "source": []
  }
 ],
 "metadata": {
  "kernelspec": {
   "display_name": "Python 3 (ipykernel)",
   "language": "python",
   "name": "python3"
  },
  "language_info": {
   "codemirror_mode": {
    "name": "ipython",
    "version": 3
   },
   "file_extension": ".py",
   "mimetype": "text/x-python",
   "name": "python",
   "nbconvert_exporter": "python",
   "pygments_lexer": "ipython3",
   "version": "3.11.2"
  }
 },
 "nbformat": 4,
 "nbformat_minor": 5
}
