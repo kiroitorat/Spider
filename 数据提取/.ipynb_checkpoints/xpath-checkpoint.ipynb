{
 "cells": [
  {
   "cell_type": "code",
   "execution_count": 5,
   "id": "b0656c1e-2033-4a39-935f-2e213acabcf8",
   "metadata": {},
   "outputs": [],
   "source": [
    "import requests\n",
    "from lxml import etree"
   ]
  },
  {
   "cell_type": "code",
   "execution_count": 3,
   "id": "0adc9dde-d273-476e-a466-29071607e5e9",
   "metadata": {},
   "outputs": [],
   "source": [
    "header = {\n",
    "    \"User-Agent\":\"Mozilla/5.0 (Windows NT 10.0; Win64; x64) AppleWebKit/537.36 (KHTML, like Gecko) Chrome/117.0.0.0 Safari/537.36 Edg/117.0.2045.60\"\n",
    "}\n",
    "\n",
    "url = \"https://www.xinpianchang.com/search/13914?from=inputSearch\"\n",
    "\n",
    "kwargs = None"
   ]
  },
  {
   "cell_type": "code",
   "execution_count": 6,
   "id": "fa9754a9-636d-44cd-ab9c-224e82b88774",
   "metadata": {},
   "outputs": [],
   "source": [
    "response = requests.request(\"get\", url, headers = header)\n",
    "page_text = response.text"
   ]
  },
  {
   "cell_type": "markdown",
   "id": "64e97afb-c799-4665-b5f8-5ea2fa01564b",
   "metadata": {},
   "source": [
    "使用etree(元素树)构建xpath对象！"
   ]
  },
  {
   "cell_type": "code",
   "execution_count": 7,
   "id": "8fa67683-d7cc-4645-94f3-2edbc7579fd3",
   "metadata": {},
   "outputs": [],
   "source": [
    "tree = etree.HTML(page_text)"
   ]
  },
  {
   "cell_type": "markdown",
   "id": "23bc44ff-cc64-46e4-b695-885dc022e82f",
   "metadata": {},
   "source": [
    "然后就可以使用xpath规则进行你想要的提取"
   ]
  },
  {
   "cell_type": "code",
   "execution_count": 15,
   "id": "0fb71e7b-a4e8-4ae5-9aee-c6d4c56cc3a9",
   "metadata": {},
   "outputs": [],
   "source": [
    "title_element = tree.xpath('//h2[@class = \"truncate block\"]')"
   ]
  },
  {
   "cell_type": "code",
   "execution_count": 29,
   "id": "900cfa90-287c-43f4-a6ca-4d2d7549d18b",
   "metadata": {
    "scrolled": true
   },
   "outputs": [
    {
     "name": "stdout",
     "output_type": "stream",
     "text": [
      "7黑丝视频有：【思锐带你拍】黑丝甜妹yyds！这甜度爆表了啊\n",
      "5黑丝视频有：男人都喜欢黑丝+双马尾+世界末日，\n",
      "5黑丝视频有：娇小玲珑，黑丝长腿，你会选择那一类女神呢\n",
      "2黑丝视频有：九@黑丝派对\n",
      "0黑丝视频有：黑丝怎么画？教你黑丝的画法教程！\n",
      "0黑丝视频有：黑丝怎么画？漫画人物黑丝画法\n",
      "4黑丝视频有：天上掉个黑丝少女\n",
      "1黑丝视频有：穿黑丝的服装类电商视频？\n",
      "11黑丝视频有：6.16-17绵阳PH黑丝派对回顾\n",
      "11黑丝视频有：《情绪短片》车好看还是黑丝好看\n"
     ]
    }
   ],
   "source": [
    "for ele in titel_element:\n",
    "    if ele.text.find('黑丝')!=-1:\n",
    "        print('{}黑丝视频有：{}'.format(ele.text.find('黑丝'),ele.text))\n",
    "        "
   ]
  },
  {
   "cell_type": "code",
   "execution_count": 56,
   "id": "527f8aef-9e68-4cac-82d0-9e0244799b34",
   "metadata": {},
   "outputs": [],
   "source": [
    "message_element = tree.xpath('//*[@id=\"v_desc\"]/div/span')"
   ]
  },
  {
   "cell_type": "code",
   "execution_count": 57,
   "id": "f9729571-3493-4271-af28-1975c9e63c41",
   "metadata": {},
   "outputs": [
    {
     "name": "stdout",
     "output_type": "stream",
     "text": [
      "超标！策划你看看她！！\n"
     ]
    }
   ],
   "source": [
    "for ele in titel_element:\n",
    "    print(ele.text)"
   ]
  },
  {
   "cell_type": "code",
   "execution_count": 58,
   "id": "9620c151-735c-459e-ba71-74758bfec6b1",
   "metadata": {},
   "outputs": [
    {
     "name": "stdout",
     "output_type": "stream",
     "text": [
      "记得三连，不行点个赞也行\n"
     ]
    }
   ],
   "source": [
    "for ele in message_element:\n",
    "    print(ele.text)"
   ]
  },
  {
   "cell_type": "code",
   "execution_count": 30,
   "id": "be66fcd2-77d5-466a-88fa-37d6044a6313",
   "metadata": {},
   "outputs": [
    {
     "data": {
      "text/plain": [
       "[]"
      ]
     },
     "execution_count": 30,
     "metadata": {},
     "output_type": "execute_result"
    }
   ],
   "source": [
    "tree.xpath('//*[@id=\"comment\"]/div/div/div/div[2]/div[2]/div[1]/div[2]/div[2]/div[2]/div')"
   ]
  },
  {
   "cell_type": "code",
   "execution_count": 37,
   "id": "f82a6209-4a7f-42f6-9602-8aadbdc05c10",
   "metadata": {},
   "outputs": [
    {
     "data": {
      "text/plain": [
       "-1"
      ]
     },
     "execution_count": 37,
     "metadata": {},
     "output_type": "execute_result"
    }
   ],
   "source": [
    "title_element[4].text.find('黑丝')"
   ]
  },
  {
   "cell_type": "code",
   "execution_count": null,
   "id": "58eda9e8-d148-4fe3-9cbd-d7985bdd53c7",
   "metadata": {},
   "outputs": [],
   "source": []
  }
 ],
 "metadata": {
  "kernelspec": {
   "display_name": "Python 3 (ipykernel)",
   "language": "python",
   "name": "python3"
  },
  "language_info": {
   "codemirror_mode": {
    "name": "ipython",
    "version": 3
   },
   "file_extension": ".py",
   "mimetype": "text/x-python",
   "name": "python",
   "nbconvert_exporter": "python",
   "pygments_lexer": "ipython3",
   "version": "3.11.2"
  }
 },
 "nbformat": 4,
 "nbformat_minor": 5
}
